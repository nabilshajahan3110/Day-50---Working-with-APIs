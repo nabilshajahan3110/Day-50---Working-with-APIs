{
 "cells": [
  {
   "cell_type": "markdown",
   "id": "327ca8e8-f207-4c24-bc1e-bf1ad74c2fe3",
   "metadata": {},
   "source": [
    "### Working with APIs"
   ]
  },
  {
   "cell_type": "code",
   "execution_count": 2,
   "id": "9625908a-4d43-4158-943e-94fadb05d2f8",
   "metadata": {},
   "outputs": [],
   "source": [
    "import warnings\n",
    "import sys\n",
    "if not sys.warnoptions:\n",
    "    warnings.simplefilter(\"ignore\")"
   ]
  },
  {
   "cell_type": "code",
   "execution_count": 8,
   "id": "7c8aff76-d664-46eb-adf4-25b8e40ac29c",
   "metadata": {},
   "outputs": [
    {
     "name": "stdin",
     "output_type": "stream",
     "text": [
      "Enter the name of the city:  Mumbai\n"
     ]
    },
    {
     "name": "stdout",
     "output_type": "stream",
     "text": [
      "Weather in Mumbai:\n",
      "\n",
      "Temperature: 28.99°C\n",
      "Condition: Smoke\n",
      "Humidity: 48%\n"
     ]
    }
   ],
   "source": [
    "import requests\n",
    "\n",
    "# Function to fetch weather data\n",
    "def fetch_weather_data(city, api_key):\n",
    "    try:\n",
    "        # API endpoint\n",
    "        url = f\"Enter Link\"\n",
    "        \n",
    "        # Sending a GET request\n",
    "        response = requests.get(url)\n",
    "        \n",
    "        if response.status_code == 200:\n",
    "            data = response.json()\n",
    "            \n",
    "            # Extracting required data\n",
    "            city_name = data['name']\n",
    "            temperature = data['main']['temp']\n",
    "            weather_condition = data['weather'][0]['description']\n",
    "            humidity = data['main']['humidity']\n",
    "            \n",
    "            # Displaying the data\n",
    "            print(f\"Weather in {city_name}:\\n\")\n",
    "            print(f\"Temperature: {temperature}°C\")\n",
    "            print(f\"Condition: {weather_condition.capitalize()}\")\n",
    "            print(f\"Humidity: {humidity}%\")\n",
    "        else:\n",
    "            print(f\"Error: Unable to fetch weather data. Status Code: {response.status_code}\")\n",
    "    \n",
    "    except Exception as e:\n",
    "        print(f\"An error occurred: {e}\")\n",
    "\n",
    "# Main function\n",
    "if __name__ == \"__main__\":\n",
    "    # Input city name\n",
    "    city = input(\"Enter the name of the city: \").strip()\n",
    "    \n",
    "    # Your OpenWeatherMap API key\n",
    "    api_key = 'Replace with your API key'\n",
    "    \n",
    "    # Fetch and display weather data\n",
    "    fetch_weather_data(city, api_key)"
   ]
  }
 ],
 "metadata": {
  "kernelspec": {
   "display_name": "Python 3 (ipykernel)",
   "language": "python",
   "name": "python3"
  },
  "language_info": {
   "codemirror_mode": {
    "name": "ipython",
    "version": 3
   },
   "file_extension": ".py",
   "mimetype": "text/x-python",
   "name": "python",
   "nbconvert_exporter": "python",
   "pygments_lexer": "ipython3",
   "version": "3.12.4"
  }
 },
 "nbformat": 4,
 "nbformat_minor": 5
}
